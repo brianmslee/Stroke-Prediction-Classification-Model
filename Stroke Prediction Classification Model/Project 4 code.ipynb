{
 "cells": [
  {
   "cell_type": "code",
   "execution_count": 1,
   "metadata": {},
   "outputs": [],
   "source": [
    "import pandas as pd \n",
    "import tensorflow as tf\n",
    "from sklearn.model_selection import train_test_split\n",
    "from sklearn.preprocessing import StandardScaler\n",
    "from sklearn.preprocessing import MinMaxScaler\n",
    "import tensorflow as tf\n",
    "from sklearn.metrics import accuracy_score\n",
    "from sklearn.metrics import confusion_matrix\n",
    "from sklearn.metrics import classification_report\n",
    "from sklearn.metrics import accuracy_score\n",
    "from sklearn.ensemble import RandomForestClassifier\n",
    "import xgboost\n"
   ]
  },
  {
   "cell_type": "code",
   "execution_count": 2,
   "metadata": {},
   "outputs": [],
   "source": [
    "stroke_df = pd.read_csv('./healthcare-dataset-stroke-data.csv')\n",
    "pd.set_option(\"display.max_rows\", None)\n",
    "stroke_df.head()\n",
    "stroke_df.dtypes\n",
    "stroke_df['bmi'] = stroke_df['bmi'].fillna(0)"
   ]
  },
  {
   "cell_type": "code",
   "execution_count": 3,
   "metadata": {},
   "outputs": [
    {
     "data": {
      "text/plain": [
       "id                   0\n",
       "gender               0\n",
       "age                  0\n",
       "hypertension         0\n",
       "heart_disease        0\n",
       "ever_married         0\n",
       "work_type            0\n",
       "Residence_type       0\n",
       "avg_glucose_level    0\n",
       "bmi                  0\n",
       "smoking_status       0\n",
       "stroke               0\n",
       "dtype: int64"
      ]
     },
     "execution_count": 3,
     "metadata": {},
     "output_type": "execute_result"
    }
   ],
   "source": [
    "stroke_df.isna().sum()\n"
   ]
  },
  {
   "cell_type": "code",
   "execution_count": 4,
   "metadata": {},
   "outputs": [
    {
     "data": {
      "text/plain": [
       "id                   5110\n",
       "gender                  3\n",
       "age                   104\n",
       "hypertension            2\n",
       "heart_disease           2\n",
       "ever_married            2\n",
       "work_type               5\n",
       "Residence_type          2\n",
       "avg_glucose_level    3979\n",
       "bmi                   419\n",
       "smoking_status          4\n",
       "stroke                  2\n",
       "dtype: int64"
      ]
     },
     "execution_count": 4,
     "metadata": {},
     "output_type": "execute_result"
    }
   ],
   "source": [
    "stroke_df.nunique()\n"
   ]
  },
  {
   "cell_type": "code",
   "execution_count": 5,
   "metadata": {},
   "outputs": [
    {
     "data": {
      "text/html": [
       "<div>\n",
       "<style scoped>\n",
       "    .dataframe tbody tr th:only-of-type {\n",
       "        vertical-align: middle;\n",
       "    }\n",
       "\n",
       "    .dataframe tbody tr th {\n",
       "        vertical-align: top;\n",
       "    }\n",
       "\n",
       "    .dataframe thead th {\n",
       "        text-align: right;\n",
       "    }\n",
       "</style>\n",
       "<table border=\"1\" class=\"dataframe\">\n",
       "  <thead>\n",
       "    <tr style=\"text-align: right;\">\n",
       "      <th></th>\n",
       "      <th>gender</th>\n",
       "      <th>age</th>\n",
       "      <th>hypertension</th>\n",
       "      <th>heart_disease</th>\n",
       "      <th>ever_married</th>\n",
       "      <th>work_type</th>\n",
       "      <th>Residence_type</th>\n",
       "      <th>avg_glucose_level</th>\n",
       "      <th>bmi</th>\n",
       "      <th>smoking_status</th>\n",
       "      <th>stroke</th>\n",
       "    </tr>\n",
       "  </thead>\n",
       "  <tbody>\n",
       "    <tr>\n",
       "      <th>0</th>\n",
       "      <td>Male</td>\n",
       "      <td>67.0</td>\n",
       "      <td>0</td>\n",
       "      <td>1</td>\n",
       "      <td>Yes</td>\n",
       "      <td>Private</td>\n",
       "      <td>Urban</td>\n",
       "      <td>228.69</td>\n",
       "      <td>36.6</td>\n",
       "      <td>formerly smoked</td>\n",
       "      <td>1</td>\n",
       "    </tr>\n",
       "    <tr>\n",
       "      <th>1</th>\n",
       "      <td>Female</td>\n",
       "      <td>61.0</td>\n",
       "      <td>0</td>\n",
       "      <td>0</td>\n",
       "      <td>Yes</td>\n",
       "      <td>Self-employed</td>\n",
       "      <td>Rural</td>\n",
       "      <td>202.21</td>\n",
       "      <td>0.0</td>\n",
       "      <td>never smoked</td>\n",
       "      <td>1</td>\n",
       "    </tr>\n",
       "    <tr>\n",
       "      <th>2</th>\n",
       "      <td>Male</td>\n",
       "      <td>80.0</td>\n",
       "      <td>0</td>\n",
       "      <td>1</td>\n",
       "      <td>Yes</td>\n",
       "      <td>Private</td>\n",
       "      <td>Rural</td>\n",
       "      <td>105.92</td>\n",
       "      <td>32.5</td>\n",
       "      <td>never smoked</td>\n",
       "      <td>1</td>\n",
       "    </tr>\n",
       "    <tr>\n",
       "      <th>3</th>\n",
       "      <td>Female</td>\n",
       "      <td>49.0</td>\n",
       "      <td>0</td>\n",
       "      <td>0</td>\n",
       "      <td>Yes</td>\n",
       "      <td>Private</td>\n",
       "      <td>Urban</td>\n",
       "      <td>171.23</td>\n",
       "      <td>34.4</td>\n",
       "      <td>smokes</td>\n",
       "      <td>1</td>\n",
       "    </tr>\n",
       "    <tr>\n",
       "      <th>4</th>\n",
       "      <td>Female</td>\n",
       "      <td>79.0</td>\n",
       "      <td>1</td>\n",
       "      <td>0</td>\n",
       "      <td>Yes</td>\n",
       "      <td>Self-employed</td>\n",
       "      <td>Rural</td>\n",
       "      <td>174.12</td>\n",
       "      <td>24.0</td>\n",
       "      <td>never smoked</td>\n",
       "      <td>1</td>\n",
       "    </tr>\n",
       "  </tbody>\n",
       "</table>\n",
       "</div>"
      ],
      "text/plain": [
       "   gender   age  hypertension  heart_disease ever_married      work_type  \\\n",
       "0    Male  67.0             0              1          Yes        Private   \n",
       "1  Female  61.0             0              0          Yes  Self-employed   \n",
       "2    Male  80.0             0              1          Yes        Private   \n",
       "3  Female  49.0             0              0          Yes        Private   \n",
       "4  Female  79.0             1              0          Yes  Self-employed   \n",
       "\n",
       "  Residence_type  avg_glucose_level   bmi   smoking_status  stroke  \n",
       "0          Urban             228.69  36.6  formerly smoked       1  \n",
       "1          Rural             202.21   0.0     never smoked       1  \n",
       "2          Rural             105.92  32.5     never smoked       1  \n",
       "3          Urban             171.23  34.4           smokes       1  \n",
       "4          Rural             174.12  24.0     never smoked       1  "
      ]
     },
     "execution_count": 5,
     "metadata": {},
     "output_type": "execute_result"
    }
   ],
   "source": [
    "stroke_df.drop(columns='id', inplace=True)\n",
    "stroke_df.head()"
   ]
  },
  {
   "cell_type": "code",
   "execution_count": 6,
   "metadata": {},
   "outputs": [],
   "source": [
    "df_dummies = pd.get_dummies(stroke_df[['gender','ever_married', 'work_type','Residence_type', 'smoking_status']])\n",
    "stroke_df_copy = stroke_df[['age', 'hypertension', 'heart_disease', 'avg_glucose_level', 'bmi', 'stroke']]\n",
    "merged_data = pd.concat([stroke_df_copy, df_dummies], axis= 1)\n",
    "merged_data.head()\n",
    "X = merged_data.drop('stroke', axis=1).values\n",
    "y = merged_data['stroke'].values"
   ]
  },
  {
   "cell_type": "code",
   "execution_count": 7,
   "metadata": {},
   "outputs": [],
   "source": [
    "X_train, X_test, y_train, y_test = train_test_split(X, y, random_state = 42)"
   ]
  },
  {
   "cell_type": "code",
   "execution_count": 8,
   "metadata": {},
   "outputs": [],
   "source": [
    "scaler = StandardScaler()\n",
    "X_scaler = scaler.fit(X_train)\n",
    "X_train_scaled = X_scaler.transform(X_train)\n",
    "X_test_scaled = X_scaler.transform(X_test)"
   ]
  },
  {
   "cell_type": "code",
   "execution_count": 10,
   "metadata": {},
   "outputs": [
    {
     "data": {
      "text/plain": [
       "21"
      ]
     },
     "execution_count": 10,
     "metadata": {},
     "output_type": "execute_result"
    }
   ],
   "source": [
    "len(X_train[0])"
   ]
  },
  {
   "cell_type": "code",
   "execution_count": 11,
   "metadata": {},
   "outputs": [
    {
     "name": "stdout",
     "output_type": "stream",
     "text": [
      "Model: \"sequential\"\n",
      "_________________________________________________________________\n",
      " Layer (type)                Output Shape              Param #   \n",
      "=================================================================\n",
      " dense (Dense)               (None, 100)               2200      \n",
      "                                                                 \n",
      " dense_1 (Dense)             (None, 50)                5050      \n",
      "                                                                 \n",
      " dense_2 (Dense)             (None, 30)                1530      \n",
      "                                                                 \n",
      " dense_3 (Dense)             (None, 1)                 31        \n",
      "                                                                 \n",
      "=================================================================\n",
      "Total params: 8,811\n",
      "Trainable params: 8,811\n",
      "Non-trainable params: 0\n",
      "_________________________________________________________________\n"
     ]
    }
   ],
   "source": [
    "nn = tf.keras.models.Sequential()\n",
    "number_of_input_features = len(X_train[0])\n",
    "hidden_neuron1 = 100 \n",
    "hidden_neuron2 = 50 \n",
    "hidden_neuron3 = 30 \n",
    "\n",
    "nn.add(tf.keras.layers.Dense(units = hidden_neuron1, activation='relu', input_dim = number_of_input_features))\n",
    "nn.add(tf.keras.layers.Dense(units = hidden_neuron2, activation='sigmoid'))\n",
    "nn.add(tf.keras.layers.Dense(units = hidden_neuron3, activation='sigmoid'))\n",
    "nn.add(tf.keras.layers.Dense(units = 1, activation='sigmoid'))\n",
    "nn.summary()"
   ]
  },
  {
   "cell_type": "code",
   "execution_count": 12,
   "metadata": {},
   "outputs": [],
   "source": [
    "nn.compile(loss= 'binary_crossentropy', optimizer = 'adam', metrics = ['accuracy'])"
   ]
  },
  {
   "cell_type": "code",
   "execution_count": 13,
   "metadata": {},
   "outputs": [
    {
     "name": "stdout",
     "output_type": "stream",
     "text": [
      "Epoch 1/100\n",
      "120/120 [==============================] - 2s 3ms/step - loss: 0.1937 - accuracy: 0.9559\n",
      "Epoch 2/100\n",
      "120/120 [==============================] - 0s 3ms/step - loss: 0.1648 - accuracy: 0.9559\n",
      "Epoch 3/100\n",
      "120/120 [==============================] - 0s 3ms/step - loss: 0.1514 - accuracy: 0.9559\n",
      "Epoch 4/100\n",
      "120/120 [==============================] - 0s 3ms/step - loss: 0.1463 - accuracy: 0.9559\n",
      "Epoch 5/100\n",
      "120/120 [==============================] - 0s 3ms/step - loss: 0.1415 - accuracy: 0.9559\n",
      "Epoch 6/100\n",
      "120/120 [==============================] - 0s 3ms/step - loss: 0.1398 - accuracy: 0.9559\n",
      "Epoch 7/100\n",
      "120/120 [==============================] - 0s 3ms/step - loss: 0.1376 - accuracy: 0.9559\n",
      "Epoch 8/100\n",
      "120/120 [==============================] - 0s 4ms/step - loss: 0.1368 - accuracy: 0.9559\n",
      "Epoch 9/100\n",
      "120/120 [==============================] - 0s 3ms/step - loss: 0.1354 - accuracy: 0.9559\n",
      "Epoch 10/100\n",
      "120/120 [==============================] - 0s 3ms/step - loss: 0.1337 - accuracy: 0.9559\n",
      "Epoch 11/100\n",
      "120/120 [==============================] - 0s 3ms/step - loss: 0.1324 - accuracy: 0.9559\n",
      "Epoch 12/100\n",
      "120/120 [==============================] - 0s 3ms/step - loss: 0.1310 - accuracy: 0.9567\n",
      "Epoch 13/100\n",
      "120/120 [==============================] - 0s 3ms/step - loss: 0.1301 - accuracy: 0.9562\n",
      "Epoch 14/100\n",
      "120/120 [==============================] - 0s 3ms/step - loss: 0.1282 - accuracy: 0.9569\n",
      "Epoch 15/100\n",
      "120/120 [==============================] - 1s 5ms/step - loss: 0.1286 - accuracy: 0.9569\n",
      "Epoch 16/100\n",
      "120/120 [==============================] - 0s 3ms/step - loss: 0.1265 - accuracy: 0.9564\n",
      "Epoch 17/100\n",
      "120/120 [==============================] - 0s 3ms/step - loss: 0.1257 - accuracy: 0.9580\n",
      "Epoch 18/100\n",
      "120/120 [==============================] - 0s 3ms/step - loss: 0.1248 - accuracy: 0.9580\n",
      "Epoch 19/100\n",
      "120/120 [==============================] - 0s 3ms/step - loss: 0.1233 - accuracy: 0.9577\n",
      "Epoch 20/100\n",
      "120/120 [==============================] - 0s 3ms/step - loss: 0.1227 - accuracy: 0.9582\n",
      "Epoch 21/100\n",
      "120/120 [==============================] - 0s 4ms/step - loss: 0.1224 - accuracy: 0.9580\n",
      "Epoch 22/100\n",
      "120/120 [==============================] - 0s 4ms/step - loss: 0.1212 - accuracy: 0.9603\n",
      "Epoch 23/100\n",
      "120/120 [==============================] - 0s 3ms/step - loss: 0.1202 - accuracy: 0.9580\n",
      "Epoch 24/100\n",
      "120/120 [==============================] - 0s 3ms/step - loss: 0.1198 - accuracy: 0.9598\n",
      "Epoch 25/100\n",
      "120/120 [==============================] - 0s 3ms/step - loss: 0.1186 - accuracy: 0.9598\n",
      "Epoch 26/100\n",
      "120/120 [==============================] - 0s 3ms/step - loss: 0.1203 - accuracy: 0.9588\n",
      "Epoch 27/100\n",
      "120/120 [==============================] - 0s 4ms/step - loss: 0.1171 - accuracy: 0.9606\n",
      "Epoch 28/100\n",
      "120/120 [==============================] - 0s 4ms/step - loss: 0.1158 - accuracy: 0.9606\n",
      "Epoch 29/100\n",
      "120/120 [==============================] - 0s 3ms/step - loss: 0.1165 - accuracy: 0.9606\n",
      "Epoch 30/100\n",
      "120/120 [==============================] - 0s 3ms/step - loss: 0.1149 - accuracy: 0.9614\n",
      "Epoch 31/100\n",
      "120/120 [==============================] - 1s 5ms/step - loss: 0.1138 - accuracy: 0.9609\n",
      "Epoch 32/100\n",
      "120/120 [==============================] - 0s 3ms/step - loss: 0.1134 - accuracy: 0.9627\n",
      "Epoch 33/100\n",
      "120/120 [==============================] - 0s 3ms/step - loss: 0.1139 - accuracy: 0.9611\n",
      "Epoch 34/100\n",
      "120/120 [==============================] - 0s 4ms/step - loss: 0.1117 - accuracy: 0.9611\n",
      "Epoch 35/100\n",
      "120/120 [==============================] - 0s 3ms/step - loss: 0.1123 - accuracy: 0.9619\n",
      "Epoch 36/100\n",
      "120/120 [==============================] - 0s 3ms/step - loss: 0.1108 - accuracy: 0.9632\n",
      "Epoch 37/100\n",
      "120/120 [==============================] - 0s 3ms/step - loss: 0.1104 - accuracy: 0.9611\n",
      "Epoch 38/100\n",
      "120/120 [==============================] - 0s 3ms/step - loss: 0.1106 - accuracy: 0.9619\n",
      "Epoch 39/100\n",
      "120/120 [==============================] - 0s 3ms/step - loss: 0.1097 - accuracy: 0.9619\n",
      "Epoch 40/100\n",
      "120/120 [==============================] - 0s 4ms/step - loss: 0.1076 - accuracy: 0.9658\n",
      "Epoch 41/100\n",
      "120/120 [==============================] - 0s 4ms/step - loss: 0.1068 - accuracy: 0.9632\n",
      "Epoch 42/100\n",
      "120/120 [==============================] - 0s 3ms/step - loss: 0.1062 - accuracy: 0.9627\n",
      "Epoch 43/100\n",
      "120/120 [==============================] - 0s 3ms/step - loss: 0.1063 - accuracy: 0.9642\n",
      "Epoch 44/100\n",
      "120/120 [==============================] - 0s 3ms/step - loss: 0.1067 - accuracy: 0.9637\n",
      "Epoch 45/100\n",
      "120/120 [==============================] - 0s 3ms/step - loss: 0.1055 - accuracy: 0.9661\n",
      "Epoch 46/100\n",
      "120/120 [==============================] - 0s 4ms/step - loss: 0.1045 - accuracy: 0.9656\n",
      "Epoch 47/100\n",
      "120/120 [==============================] - 0s 3ms/step - loss: 0.1044 - accuracy: 0.9635\n",
      "Epoch 48/100\n",
      "120/120 [==============================] - 0s 3ms/step - loss: 0.1033 - accuracy: 0.9656\n",
      "Epoch 49/100\n",
      "120/120 [==============================] - 0s 3ms/step - loss: 0.1021 - accuracy: 0.9661\n",
      "Epoch 50/100\n",
      "120/120 [==============================] - 0s 3ms/step - loss: 0.1005 - accuracy: 0.9679\n",
      "Epoch 51/100\n",
      "120/120 [==============================] - 0s 3ms/step - loss: 0.1007 - accuracy: 0.9676\n",
      "Epoch 52/100\n",
      "120/120 [==============================] - 0s 3ms/step - loss: 0.1022 - accuracy: 0.9642\n",
      "Epoch 53/100\n",
      "120/120 [==============================] - 1s 5ms/step - loss: 0.1002 - accuracy: 0.9656\n",
      "Epoch 54/100\n",
      "120/120 [==============================] - 0s 4ms/step - loss: 0.0989 - accuracy: 0.9653\n",
      "Epoch 55/100\n",
      "120/120 [==============================] - 0s 3ms/step - loss: 0.0988 - accuracy: 0.9671\n",
      "Epoch 56/100\n",
      "120/120 [==============================] - 0s 3ms/step - loss: 0.0979 - accuracy: 0.9695\n",
      "Epoch 57/100\n",
      "120/120 [==============================] - 0s 3ms/step - loss: 0.0970 - accuracy: 0.9682\n",
      "Epoch 58/100\n",
      "120/120 [==============================] - 0s 3ms/step - loss: 0.0972 - accuracy: 0.9679\n",
      "Epoch 59/100\n",
      "120/120 [==============================] - 0s 4ms/step - loss: 0.0960 - accuracy: 0.9703\n",
      "Epoch 60/100\n",
      "120/120 [==============================] - 0s 3ms/step - loss: 0.0956 - accuracy: 0.9679\n",
      "Epoch 61/100\n",
      "120/120 [==============================] - 0s 3ms/step - loss: 0.0940 - accuracy: 0.9697\n",
      "Epoch 62/100\n",
      "120/120 [==============================] - 0s 3ms/step - loss: 0.0937 - accuracy: 0.9703\n",
      "Epoch 63/100\n",
      "120/120 [==============================] - 0s 3ms/step - loss: 0.0915 - accuracy: 0.9700\n",
      "Epoch 64/100\n",
      "120/120 [==============================] - 0s 3ms/step - loss: 0.0927 - accuracy: 0.9674\n",
      "Epoch 65/100\n",
      "120/120 [==============================] - 0s 4ms/step - loss: 0.0916 - accuracy: 0.9692\n",
      "Epoch 66/100\n",
      "120/120 [==============================] - 0s 3ms/step - loss: 0.0916 - accuracy: 0.9692\n",
      "Epoch 67/100\n",
      "120/120 [==============================] - 0s 3ms/step - loss: 0.0912 - accuracy: 0.9708\n",
      "Epoch 68/100\n",
      "120/120 [==============================] - 0s 3ms/step - loss: 0.0906 - accuracy: 0.9708\n",
      "Epoch 69/100\n",
      "120/120 [==============================] - 0s 3ms/step - loss: 0.0886 - accuracy: 0.9697\n",
      "Epoch 70/100\n",
      "120/120 [==============================] - 0s 3ms/step - loss: 0.0900 - accuracy: 0.9687\n",
      "Epoch 71/100\n",
      "120/120 [==============================] - 0s 4ms/step - loss: 0.0872 - accuracy: 0.9708\n",
      "Epoch 72/100\n",
      "120/120 [==============================] - 0s 3ms/step - loss: 0.0891 - accuracy: 0.9723\n",
      "Epoch 73/100\n",
      "120/120 [==============================] - 0s 3ms/step - loss: 0.0858 - accuracy: 0.9718\n",
      "Epoch 74/100\n",
      "120/120 [==============================] - 0s 4ms/step - loss: 0.0849 - accuracy: 0.9700\n",
      "Epoch 75/100\n",
      "120/120 [==============================] - 0s 4ms/step - loss: 0.0866 - accuracy: 0.9713\n",
      "Epoch 76/100\n",
      "120/120 [==============================] - 0s 3ms/step - loss: 0.0862 - accuracy: 0.9708\n",
      "Epoch 77/100\n",
      "120/120 [==============================] - 0s 4ms/step - loss: 0.0857 - accuracy: 0.9713\n",
      "Epoch 78/100\n",
      "120/120 [==============================] - 0s 3ms/step - loss: 0.0830 - accuracy: 0.9710\n",
      "Epoch 79/100\n",
      "120/120 [==============================] - 0s 3ms/step - loss: 0.0814 - accuracy: 0.9710\n",
      "Epoch 80/100\n",
      "120/120 [==============================] - 0s 3ms/step - loss: 0.0821 - accuracy: 0.9705\n",
      "Epoch 81/100\n",
      "120/120 [==============================] - 0s 3ms/step - loss: 0.0805 - accuracy: 0.9747\n",
      "Epoch 82/100\n",
      "120/120 [==============================] - 0s 3ms/step - loss: 0.0804 - accuracy: 0.9718\n",
      "Epoch 83/100\n",
      "120/120 [==============================] - 0s 4ms/step - loss: 0.0799 - accuracy: 0.9744\n",
      "Epoch 84/100\n",
      "120/120 [==============================] - 0s 3ms/step - loss: 0.0816 - accuracy: 0.9726\n",
      "Epoch 85/100\n",
      "120/120 [==============================] - 0s 4ms/step - loss: 0.0790 - accuracy: 0.9747\n",
      "Epoch 86/100\n",
      "120/120 [==============================] - 0s 3ms/step - loss: 0.0794 - accuracy: 0.9757\n",
      "Epoch 87/100\n",
      "120/120 [==============================] - 0s 3ms/step - loss: 0.0778 - accuracy: 0.9752\n",
      "Epoch 88/100\n",
      "120/120 [==============================] - 0s 4ms/step - loss: 0.0769 - accuracy: 0.9734\n",
      "Epoch 89/100\n",
      "120/120 [==============================] - 0s 3ms/step - loss: 0.0766 - accuracy: 0.9749\n",
      "Epoch 90/100\n",
      "120/120 [==============================] - 0s 3ms/step - loss: 0.0744 - accuracy: 0.9749\n",
      "Epoch 91/100\n",
      "120/120 [==============================] - 0s 4ms/step - loss: 0.0770 - accuracy: 0.9739\n",
      "Epoch 92/100\n",
      "120/120 [==============================] - 0s 3ms/step - loss: 0.0749 - accuracy: 0.9765\n",
      "Epoch 93/100\n",
      "120/120 [==============================] - 0s 3ms/step - loss: 0.0761 - accuracy: 0.9752\n",
      "Epoch 94/100\n",
      "120/120 [==============================] - 0s 4ms/step - loss: 0.0748 - accuracy: 0.9768\n",
      "Epoch 95/100\n",
      "120/120 [==============================] - 0s 3ms/step - loss: 0.0740 - accuracy: 0.9763\n",
      "Epoch 96/100\n",
      "120/120 [==============================] - 0s 3ms/step - loss: 0.0723 - accuracy: 0.9781\n",
      "Epoch 97/100\n",
      "120/120 [==============================] - 0s 3ms/step - loss: 0.0736 - accuracy: 0.9752\n",
      "Epoch 98/100\n",
      "120/120 [==============================] - 0s 3ms/step - loss: 0.0730 - accuracy: 0.9755\n",
      "Epoch 99/100\n",
      "120/120 [==============================] - 0s 4ms/step - loss: 0.0708 - accuracy: 0.9781\n",
      "Epoch 100/100\n",
      "120/120 [==============================] - 0s 3ms/step - loss: 0.0707 - accuracy: 0.9760\n"
     ]
    },
    {
     "data": {
      "text/plain": [
       "<keras.callbacks.History at 0x1e1e91b78e0>"
      ]
     },
     "execution_count": 13,
     "metadata": {},
     "output_type": "execute_result"
    }
   ],
   "source": [
    "nn.fit(X_train_scaled, y_train, epochs = 100)"
   ]
  },
  {
   "cell_type": "code",
   "execution_count": 14,
   "metadata": {},
   "outputs": [
    {
     "name": "stdout",
     "output_type": "stream",
     "text": [
      "40/40 - 1s - loss: 0.2662 - accuracy: 0.9249 - 643ms/epoch - 16ms/step\n",
      "Model_loss: 0.26620104908943176, Model_accuracy: 0.9248826503753662\n"
     ]
    }
   ],
   "source": [
    "model_loss, model_accuracy = nn.evaluate(X_test_scaled, y_test, verbose =2)\n",
    "print(f\"Model_loss: {model_loss}, Model_accuracy: {model_accuracy}\")"
   ]
  },
  {
   "cell_type": "code",
   "execution_count": 15,
   "metadata": {},
   "outputs": [
    {
     "data": {
      "text/plain": [
       "0.9327073552425665"
      ]
     },
     "execution_count": 15,
     "metadata": {},
     "output_type": "execute_result"
    }
   ],
   "source": [
    "xgb_model = xgboost.XGBClassifier()\n",
    "xgb_model = xgb_model.fit(X_train_scaled, y_train)\n",
    "predictions = xgb_model.predict(X_test_scaled)\n",
    "accuracy = accuracy_score(y_test, predictions)\n",
    "accuracy"
   ]
  },
  {
   "cell_type": "code",
   "execution_count": 17,
   "metadata": {},
   "outputs": [
    {
     "data": {
      "text/plain": [
       "0.9381846635367762"
      ]
     },
     "execution_count": 17,
     "metadata": {},
     "output_type": "execute_result"
    }
   ],
   "source": [
    "forest_model = RandomForestClassifier(n_estimators= 398, random_state= 42)\n",
    "forest_model = forest_model.fit(X_train_scaled, y_train)\n",
    "predictions = forest_model.predict(X_test_scaled)\n",
    "accuracy = accuracy_score(y_test, predictions)\n",
    "accuracy "
   ]
  }
 ],
 "metadata": {
  "kernelspec": {
   "display_name": "base",
   "language": "python",
   "name": "python3"
  },
  "language_info": {
   "codemirror_mode": {
    "name": "ipython",
    "version": 3
   },
   "file_extension": ".py",
   "mimetype": "text/x-python",
   "name": "python",
   "nbconvert_exporter": "python",
   "pygments_lexer": "ipython3",
   "version": "3.9.12"
  },
  "orig_nbformat": 4
 },
 "nbformat": 4,
 "nbformat_minor": 2
}
